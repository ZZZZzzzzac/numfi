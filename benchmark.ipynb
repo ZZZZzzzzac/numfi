{
 "cells": [
  {
   "cell_type": "markdown",
   "metadata": {},
   "source": [
    "## Benchmark of fixed-point array arithmetic library\n",
    "Test platform:\n",
    "- Intel(R) Core(TM) i7-1065G7 CPU @ 1.30GHz   1.50 GHz \n",
    "- 8GB RAM\n",
    "- Windows 10 Home\n",
    "- Python 3.9.5\n",
    "- Numpy 1.20.3\n",
    "- MATLAB R2018b\n",
    "- fxpmath 0.4.0\n",
    "- numfi 0.2.3"
   ]
  },
  {
   "cell_type": "code",
   "execution_count": 4,
   "metadata": {},
   "outputs": [],
   "source": [
    "%matplotlib inline\n",
    "import numpy as np\n",
    "from fxpmath import Fxp\n",
    "from numfi import numfi\n",
    "import matplotlib.pyplot as plt"
   ]
  },
  {
   "cell_type": "code",
   "execution_count": 5,
   "metadata": {},
   "outputs": [],
   "source": [
    "def compare(numfi_obj, fxp_obj):\n",
    "    if np.all(numfi_obj.int == fxp_obj.val):\n",
    "        print(\"Bits exact same\")\n",
    "    else:\n",
    "        err = np.abs(numfi_obj.double - fxp_obj.real)\n",
    "        print(\"Bits not exact same, max error: \", np.max(err))"
   ]
  },
  {
   "cell_type": "code",
   "execution_count": 6,
   "metadata": {},
   "outputs": [],
   "source": [
    "x = np.random.rand(100000)+1 # +1 to avoid divide by zero\n",
    "y = np.random.rand(100000)+1 \n",
    "s,w,f = 1,16,8\n",
    "nx = numfi(x,s,w,f)\n",
    "ny = numfi(y,s,w,f)\n",
    "fx = Fxp(x,s,w,f,rounding='around')\n",
    "fy = Fxp(y,s,w,f,rounding='around')\n",
    "# both rounding = np.round, overflow = saturate"
   ]
  },
  {
   "cell_type": "markdown",
   "metadata": {},
   "source": [
    "### Matlab benchmark code\n",
    "```matlab\n",
    "x = rand(1,100000);\n",
    "y=  rand(1,100000);\n",
    "s=1;\n",
    "w=16;\n",
    "f=8;\n",
    "fx = fi(x,s,w,f);\n",
    "fy = fi(y,s,w,f);\n",
    "time = zeros(1,7);\n",
    "for i =1:7\n",
    "    t = tic;\n",
    "    for j=1:10\n",
    "        temp = fx .* fy;\n",
    "    end\n",
    "    time(i) = toc(t)/10;\n",
    "end\n",
    "disp(mean(time)*1000)\n",
    "```"
   ]
  },
  {
   "cell_type": "code",
   "execution_count": 7,
   "metadata": {},
   "outputs": [
    {
     "name": "stdout",
     "output_type": "stream",
     "text": [
      "857 µs ± 101 µs per loop (mean ± std. dev. of 7 runs, 1,000 loops each)\n",
      "93.8 ms ± 4.23 ms per loop (mean ± std. dev. of 7 runs, 10 loops each)\n",
      "Bits exact same\n"
     ]
    }
   ],
   "source": [
    "# fixed point initialization\n",
    "init_n = %timeit -o a = numfi(x,s,w,f)\n",
    "init_f = %timeit -o b = Fxp(x,s,w,f,rounding='around') \n",
    "# matlab 8.8162 ms\n",
    "a = numfi(x,s,w,f)\n",
    "b = Fxp(x,s,w,f,rounding='around') \n",
    "compare(a,b)"
   ]
  },
  {
   "cell_type": "code",
   "execution_count": 8,
   "metadata": {},
   "outputs": [
    {
     "name": "stdout",
     "output_type": "stream",
     "text": [
      "1.56 ms ± 59.6 µs per loop (mean ± std. dev. of 7 runs, 1,000 loops each)\n",
      "92.4 ms ± 3.9 ms per loop (mean ± std. dev. of 7 runs, 10 loops each)\n",
      "Bits exact same\n",
      "3.44 ms ± 659 µs per loop (mean ± std. dev. of 7 runs, 100 loops each)\n",
      "183 ms ± 6.55 ms per loop (mean ± std. dev. of 7 runs, 10 loops each)\n",
      "Bits exact same\n",
      "943 µs ± 77.6 µs per loop (mean ± std. dev. of 7 runs, 1,000 loops each)\n",
      "106 ms ± 9.51 ms per loop (mean ± std. dev. of 7 runs, 10 loops each)\n",
      "Bits exact same\n"
     ]
    }
   ],
   "source": [
    "# fixed point array add float scalar\n",
    "adds_n = %timeit -o a = nx + np.pi\n",
    "adds_f = %timeit -o b = fx + np.pi \n",
    "# matlab: 27.7660 ms\n",
    "compare(nx + np.pi, fx + np.pi)\n",
    "\n",
    "# fixed point array add float array\n",
    "adda_n = %timeit -o a = nx + x\n",
    "adda_f = %timeit -o b = fx + x\n",
    "# matlab: 35.5236 ms\n",
    "compare(nx + x, fx + x)\n",
    "\n",
    "# fixed point array add fixed point array\n",
    "addf_n = %timeit -o nx + ny \n",
    "addf_f = %timeit -o fx + fy \n",
    "# matlab: 26.6056 ms\n",
    "compare(nx + ny, fx + fy)"
   ]
  },
  {
   "cell_type": "code",
   "execution_count": 9,
   "metadata": {},
   "outputs": [
    {
     "name": "stdout",
     "output_type": "stream",
     "text": [
      "960 µs ± 75.2 µs per loop (mean ± std. dev. of 7 runs, 1,000 loops each)\n",
      "89.6 ms ± 3.38 ms per loop (mean ± std. dev. of 7 runs, 10 loops each)\n",
      "Bits exact same\n",
      "2.14 ms ± 187 µs per loop (mean ± std. dev. of 7 runs, 100 loops each)\n",
      "177 ms ± 5.83 ms per loop (mean ± std. dev. of 7 runs, 10 loops each)\n",
      "Bits exact same\n",
      "3.61 ms ± 207 µs per loop (mean ± std. dev. of 7 runs, 100 loops each)\n",
      "91.8 ms ± 2.24 ms per loop (mean ± std. dev. of 7 runs, 10 loops each)\n",
      "Bits exact same\n"
     ]
    }
   ],
   "source": [
    "# fixed point array sub float scalar\n",
    "subs_n = %timeit -o nx - np.pi \n",
    "subs_f = %timeit -o fx - np.pi \n",
    "# matlab: 26.0436 ms\n",
    "compare(nx - np.pi, fx - np.pi)\n",
    "\n",
    "# fixed point array sub float array\n",
    "suba_n = %timeit -o nx - x \n",
    "suba_f = %timeit -o fx - x \n",
    "# matlab: 29.7733 ms\n",
    "compare(nx - x, fx - x)\n",
    "\n",
    "# fixed point array sub fixed point array\n",
    "subf_n = %timeit -o nx - ny \n",
    "subf_f = %timeit -o fx - fy \n",
    "# matlab: 26.8947 ms\n",
    "compare(nx - ny, fx - fy)"
   ]
  },
  {
   "cell_type": "code",
   "execution_count": 10,
   "metadata": {},
   "outputs": [
    {
     "name": "stdout",
     "output_type": "stream",
     "text": [
      "938 µs ± 50.5 µs per loop (mean ± std. dev. of 7 runs, 1,000 loops each)\n",
      "110 ms ± 2.99 ms per loop (mean ± std. dev. of 7 runs, 10 loops each)\n",
      "Bits not exact same, max error:  0.003749847412109375\n",
      "2.19 ms ± 185 µs per loop (mean ± std. dev. of 7 runs, 100 loops each)\n",
      "200 ms ± 6.99 ms per loop (mean ± std. dev. of 7 runs, 10 loops each)\n",
      "Bits not exact same, max error:  0.00566864013671875\n",
      "950 µs ± 102 µs per loop (mean ± std. dev. of 7 runs, 1,000 loops each)\n",
      "52.3 ms ± 2.64 ms per loop (mean ± std. dev. of 7 runs, 10 loops each)\n",
      "Bits exact same\n"
     ]
    }
   ],
   "source": [
    "# fixed point array mul float scalar\n",
    "muls_n = %timeit -o nx * np.pi \n",
    "muls_f = %timeit -o fx * np.pi \n",
    "# matlab: 18.0494 ms\n",
    "compare(nx * np.pi, fx * np.pi)\n",
    "\n",
    "# fixed point array mul float array\n",
    "mula_n = %timeit -o nx * x \n",
    "mula_f = %timeit -o fx * x \n",
    "# matlab: 26.2648 ms\n",
    "compare(nx * x, fx * x)\n",
    "\n",
    "# fixed point array mul fixed point array\n",
    "mulf_n = %timeit -o nx * ny\n",
    "mulf_f = %timeit -o fx * fy\n",
    "# matlab: 17.8751 ms\n",
    "compare(nx * ny, fx * fy)"
   ]
  },
  {
   "cell_type": "code",
   "execution_count": 11,
   "metadata": {},
   "outputs": [
    {
     "name": "stdout",
     "output_type": "stream",
     "text": [
      "1.01 ms ± 81 µs per loop (mean ± std. dev. of 7 runs, 1,000 loops each)\n",
      "77.9 ms ± 2.36 ms per loop (mean ± std. dev. of 7 runs, 10 loops each)\n",
      "Bits not exact same, max error:  0.00390625\n",
      "2.46 ms ± 560 µs per loop (mean ± std. dev. of 7 runs, 100 loops each)\n",
      "161 ms ± 4.32 ms per loop (mean ± std. dev. of 7 runs, 10 loops each)\n",
      "Bits exact same\n",
      "979 µs ± 65.8 µs per loop (mean ± std. dev. of 7 runs, 1,000 loops each)\n",
      "38.1 ms ± 3.21 ms per loop (mean ± std. dev. of 7 runs, 10 loops each)\n",
      "Bits not exact same, max error:  0.5\n"
     ]
    }
   ],
   "source": [
    "# fixed point array div float scalar\n",
    "divs_n = %timeit -o nx / np.pi \n",
    "divs_f = %timeit -o fx / np.pi \n",
    "# matlab: 49.5426 ms\n",
    "compare(nx / np.pi, fx / np.pi)\n",
    "\n",
    "# fixed point array div float array\n",
    "diva_n = %timeit -o nx / x \n",
    "diva_f = %timeit -o fx / x \n",
    "# matlab: 61.5865 ms \n",
    "compare(nx / x, fx / x)\n",
    "\n",
    "# fixed point array div fixed point array\n",
    "divf_n = %timeit -o nx / ny \n",
    "divf_f = %timeit -o fx / fy \n",
    "# matlab: 56.3831 ms \n",
    "compare(nx / ny, fx / fy)"
   ]
  },
  {
   "cell_type": "code",
   "execution_count": 18,
   "metadata": {},
   "outputs": [
    {
     "name": "stdout",
     "output_type": "stream",
     "text": [
      "22.4 µs ± 1.16 µs per loop (mean ± std. dev. of 7 runs, 10,000 loops each)\n",
      "213 µs ± 18.6 µs per loop (mean ± std. dev. of 7 runs, 1,000 loops each)\n"
     ]
    },
    {
     "data": {
      "text/plain": [
       "True"
      ]
     },
     "execution_count": 18,
     "metadata": {},
     "output_type": "execute_result"
    }
   ],
   "source": [
    "# fixed point array do logical operation\n",
    "logic_n = %timeit -o nx >= 0.5\n",
    "logic_f = %timeit -o fx >= 0.5\n",
    "# matlab 1.1448 ms\n",
    "np.all((nx >= 0.5)==(fx >= 0.5))"
   ]
  },
  {
   "cell_type": "code",
   "execution_count": 20,
   "metadata": {},
   "outputs": [
    {
     "name": "stdout",
     "output_type": "stream",
     "text": [
      "2.55 ms ± 585 µs per loop (mean ± std. dev. of 7 runs, 100 loops each)\n",
      "9.54 s ± 1.9 s per loop (mean ± std. dev. of 7 runs, 1 loop each)\n",
      "Bits not exact same, max error:  3.040053394354203e-05\n"
     ]
    }
   ],
   "source": [
    "# fixed point array do trigonometric operation\n",
    "sin_n = %timeit -o np.sin(nx) \n",
    "sin_f = %timeit -o np.sin(fx) \n",
    "compare(np.sin(nx),np.sin(fx))\n",
    "# matlab timeout"
   ]
  },
  {
   "cell_type": "code",
   "execution_count": 22,
   "metadata": {},
   "outputs": [
    {
     "name": "stdout",
     "output_type": "stream",
     "text": [
      "201 µs ± 56.7 µs per loop (mean ± std. dev. of 7 runs, 1,000 loops each)\n",
      "308 µs ± 36.2 µs per loop (mean ± std. dev. of 7 runs, 1,000 loops each)\n",
      "Bits not exact same, max error:  2.18359375\n"
     ]
    }
   ],
   "source": [
    "# fixed point array do reduce operation\n",
    "sum_n = %timeit -o nx.sum() \n",
    "sum_f = %timeit -o fx.sum() \n",
    "# matlab 49.1531 ms\n",
    "compare(nx.sum(),fx.sum()) # numfi's sum() works differently"
   ]
  },
  {
   "cell_type": "code",
   "execution_count": null,
   "metadata": {},
   "outputs": [],
   "source": [
    "# fixed point array do fft\n",
    "fft_n = %timeit -o np.fft.fft(nx)\n",
    "fft_f = %timeit -o np.fft.fft(fx)\n",
    "# matlab: 2.127 ms"
   ]
  },
  {
   "cell_type": "code",
   "execution_count": null,
   "metadata": {},
   "outputs": [],
   "source": [
    "# fixed point array do convolution\n",
    "filter = np.random.rand(256)\n",
    "nf = numfi(filter,like=nx)\n",
    "ff = Fxp(filter, 1,16,8,rounding='around')\n",
    "conv_n = %timeit -o np.convolve(nx,nf)\n",
    "conv_f = %timeit -o np.convolve(fx,ff)\n",
    "# matlab: timeout"
   ]
  },
  {
   "cell_type": "code",
   "execution_count": null,
   "metadata": {},
   "outputs": [],
   "source": [
    "benchmark_label = ['init',\n",
    "'add float scalar', 'add float array', 'add fixed array',\n",
    "'sub float scalar', 'sub float array', 'sub fixed array',\n",
    "'mul float scalar', 'mul float array', 'mul fixed array',\n",
    "'div float scalar', 'div float array', 'div fixed array',\n",
    "'logical', 'sin()', 'sum()', 'fft()', 'convolve()-256'\n",
    "]\n",
    "\n",
    "benchmark_time = np.array([\n",
    "    [i.average for i in [init_n,adds_n,adda_n,addf_n,subs_n,suba_n,subf_n,muls_n,mula_n,mulf_n,divs_n,diva_n,divf_n,logic_n,sin_n,sum_n,fft_n,conv_n]], # numfi time\n",
    "    [i.average for i in [init_f,adds_f,adda_f,addf_f,subs_f,suba_f,subf_f,muls_f,mula_f,mulf_f,divs_f,diva_f,divf_f,logic_f,sin_f,sum_f,fft_f,conv_f]], # fxpmath time\n",
    "    [8.8162e-3,27.7660e-3,35.5236e-3,26.6056e-3,26.0436e-3,29.7733e-3,26.8947e-3,18.0494e-3,26.2648e-3,17.8751e-3,49.5426e-3,61.5865e-3,56.3831e-3,1.1448e-3,np.inf,49.1531e-3,2.127e-3,np.inf] # matlab time\n",
    "])*1000 "
   ]
  },
  {
   "cell_type": "code",
   "execution_count": null,
   "metadata": {},
   "outputs": [],
   "source": [
    "fig,ax = plt.subplots()\n",
    "fig.set_size_inches(20,10)\n",
    "x = np.arange(len(benchmark_label))\n",
    "w = 0.25\n",
    "bar_numfi = ax.bar(x-w, benchmark_time[0], w, label='numfi')\n",
    "bar_fxp = ax.bar(x, benchmark_time[1], w, label='fxpmath')\n",
    "bar_matlab = ax.bar(x+w, benchmark_time[2], w, label='matlab')\n",
    "ax.set_ylabel(\"Elapsed time / ms\")\n",
    "ax.set_yscale('log')\n",
    "ax.set_title(\"Benchmark for fixed point array(1x100000) arithmetic\")\n",
    "ax.set_xticks(x)\n",
    "ax.set_xticklabels(benchmark_label, rotation=15)\n",
    "ax.legend()\n",
    "ax.bar_label(bar_numfi,padding=3)\n",
    "ax.bar_label(bar_fxp,padding=3)\n",
    "ax.bar_label(bar_matlab,padding=3)\n",
    "fig.tight_layout()\n",
    "plt.savefig('./docs/benchmark.jpg')\n",
    "plt.show()\n"
   ]
  }
 ],
 "metadata": {
  "kernelspec": {
   "display_name": "Python 3",
   "language": "python",
   "name": "python3"
  },
  "language_info": {
   "codemirror_mode": {
    "name": "ipython",
    "version": 3
   },
   "file_extension": ".py",
   "mimetype": "text/x-python",
   "name": "python",
   "nbconvert_exporter": "python",
   "pygments_lexer": "ipython3",
   "version": "3.12.0"
  },
  "orig_nbformat": 2
 },
 "nbformat": 4,
 "nbformat_minor": 2
}
